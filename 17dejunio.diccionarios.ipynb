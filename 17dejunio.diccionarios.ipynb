{
 "cells": [
  {
   "cell_type": "markdown",
   "metadata": {},
   "source": [
    "ejercicio1 Creación de diccionarios en Python"
   ]
  },
  {
   "cell_type": "code",
   "execution_count": null,
   "metadata": {},
   "outputs": [],
   "source": [
    "estudiantes = {'Juan': 16, 'Ana': 18, 'Luis': 17}\n",
    "print(estudiantes) # {'Juan': 16, 'Ana': 18, 'Luis': 17}"
   ]
  },
  {
   "cell_type": "code",
   "execution_count": null,
   "metadata": {},
   "outputs": [],
   "source": [
    "estudiantes = dict([('Juan', 16), ('Ana', 18), ('Luis', 17)])\n",
    "print(estudiantes) # {'Juan': 16, 'Ana': 18, 'Luis': 17}"
   ]
  },
  {
   "cell_type": "markdown",
   "metadata": {},
   "source": [
    "ejercicio2 Agregar, modificar y eliminar elementos"
   ]
  },
  {
   "cell_type": "code",
   "execution_count": null,
   "metadata": {},
   "outputs": [],
   "source": [
    "estudiantes = {'Juan': 16, 'Ana': 18, 'Luis': 17}\n",
    "estudiantes['Maria'] = 15\n",
    "print(estudiantes) # {'Juan': 16, 'Ana': 18, 'Luis': 17, 'Maria': 15}"
   ]
  },
  {
   "cell_type": "code",
   "execution_count": null,
   "metadata": {},
   "outputs": [],
   "source": [
    "estudiantes = {'Juan': 16, 'Ana': 18, 'Luis': 17}\n",
    "estudiantes['Ana'] = 19\n",
    "print(estudiantes) # {'Juan': 16, 'Ana': 19, 'Luis': 17}"
   ]
  },
  {
   "cell_type": "code",
   "execution_count": null,
   "metadata": {},
   "outputs": [],
   "source": [
    "estudiantes = {'Juan': 16, 'Ana': 18, 'Luis': 17}\n",
    "del estudiantes['Juan']\n",
    "print(estudiantes) # {'Ana': 18, 'Luis': 17}"
   ]
  },
  {
   "cell_type": "markdown",
   "metadata": {},
   "source": [
    "ejercicio3 Acceder a los elementos"
   ]
  },
  {
   "cell_type": "code",
   "execution_count": null,
   "metadata": {},
   "outputs": [],
   "source": [
    "estudiantes = {'Juan': 16, 'Ana': 18, 'Luis': 17}\n",
    "print(estudiantes['Ana']) # 18"
   ]
  },
  {
   "cell_type": "code",
   "execution_count": null,
   "metadata": {},
   "outputs": [],
   "source": [
    "estudiantes = {'Juan': 16, 'Ana': 18, 'Luis': 17}\n",
    "print(estudiantes.get('Maria', 'No existe')) # 'No existe'"
   ]
  },
  {
   "cell_type": "markdown",
   "metadata": {},
   "source": [
    "ejercicio4 Iterar a través de los elementos"
   ]
  },
  {
   "cell_type": "code",
   "execution_count": null,
   "metadata": {},
   "outputs": [],
   "source": [
    "estudiantes = {'Juan': 16, 'Ana': 18, 'Luis': 17}\n",
    "for clave in estudiantes:\n",
    "    print(clave, estudiantes[clave])"
   ]
  },
  {
   "cell_type": "code",
   "execution_count": null,
   "metadata": {},
   "outputs": [],
   "source": [
    "estudiantes = {'Juan': 16, 'Ana': 18, 'Luis': 17}\n",
    "for clave, valor in estudiantes.items():\n",
    "    print(clave, valor)"
   ]
  },
  {
   "cell_type": "markdown",
   "metadata": {},
   "source": [
    "ejercicio5 Verificación de pertenencia"
   ]
  },
  {
   "cell_type": "code",
   "execution_count": null,
   "metadata": {},
   "outputs": [],
   "source": [
    "estudiantes = {'Juan': 16, 'Ana': 18, 'Luis': 17}\n",
    "if 'Ana' in estudiantes:\n",
    "    print('Ana es un estudiante')"
   ]
  },
  {
   "cell_type": "markdown",
   "metadata": {},
   "source": [
    "ejercicio6 Método len()"
   ]
  },
  {
   "cell_type": "code",
   "execution_count": null,
   "metadata": {},
   "outputs": [],
   "source": [
    "estudiantes = {'Juan': 16, 'Ana': 18, 'Luis': 17}\n",
    "print(len(estudiantes)) # 3"
   ]
  }
 ],
 "metadata": {
  "language_info": {
   "name": "python"
  }
 },
 "nbformat": 4,
 "nbformat_minor": 2
}
