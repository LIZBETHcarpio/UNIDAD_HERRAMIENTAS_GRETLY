{
 "cells": [
  {
   "cell_type": "markdown",
   "metadata": {},
   "source": [
    "1-Escriba un programa que mediante una funcion pida la anchura y altura de un rectangulo y lo dibuje con caracteres (&):"
   ]
  },
  {
   "cell_type": "code",
   "execution_count": 1,
   "metadata": {},
   "outputs": [
    {
     "name": "stdout",
     "output_type": "stream",
     "text": [
      "&&&&\n",
      "&&&&\n",
      "&&&&\n",
      "&&&&\n",
      "&&&&\n",
      "&&&&\n",
      "&&&&\n",
      "&&&&\n",
      "&&&&\n",
      "&&&&\n"
     ]
    }
   ],
   "source": [
    "def dibujar_rectangulo(anchura, altura):\n",
    "    for i in range(altura):\n",
    "        print(\"&\" * anchura)\n",
    "\n",
    "# Solicitar al usuario la anchura y altura del rectángulo\n",
    "anchura_usuario = int(input(\"Ingresa la anchura del rectángulo: \"))\n",
    "altura_usuario = int(input(\"Ingresa la altura del rectángulo: \"))\n",
    "\n",
    "# Llamar a la función para dibujar el rectángulo\n",
    "dibujar_rectangulo(anchura_usuario, altura_usuario)"
   ]
  },
  {
   "cell_type": "markdown",
   "metadata": {},
   "source": [
    "3-Escriba una funcion que permita crear una lista de palabras(que puede ser vacia).Para ello,el programa tiene que pedir un numero y luego solicitar ese numero de palabras para crear la lista.Por ultimo, el programa tiene que escribir la lista."
   ]
  },
  {
   "cell_type": "code",
   "execution_count": 3,
   "metadata": {},
   "outputs": [
    {
     "name": "stdout",
     "output_type": "stream",
     "text": [
      "La lista de palabras es:\n",
      "['felicidad', 'manzana', 'perro', 'rosa']\n"
     ]
    }
   ],
   "source": [
    "def crear_lista_palabras():\n",
    "    num_palabras = int(input(\"Ingresa el número de palabras que deseas agregar: \"))\n",
    "    lista_palabras = []\n",
    "\n",
    "    for i in range(num_palabras):\n",
    "        palabra = input(f\"Ingrese la palabra {i + 1}: \")\n",
    "        lista_palabras.append(palabra)\n",
    "\n",
    "    print(\"La lista de palabras es:\")\n",
    "    print(lista_palabras)\n",
    "\n",
    "# Llamar a la función para crear la lista\n",
    "crear_lista_palabras()"
   ]
  },
  {
   "cell_type": "markdown",
   "metadata": {},
   "source": [
    "5- Escribir una función que reciba una muestra de números en una lista y devuelva un \n",
    "diccionario con su media, varianza y desviación típica."
   ]
  },
  {
   "cell_type": "code",
   "execution_count": 10,
   "metadata": {},
   "outputs": [
    {
     "name": "stdout",
     "output_type": "stream",
     "text": [
      "{'media': 20.0, 'varianza': 50.0, 'desviacion_tipica': 25.0}\n"
     ]
    }
   ],
   "source": [
    "def calcular_estadisticas(muestra):\n",
    "    \"\"\"\n",
    "    Calcula la media, varianza y desviación típica de una muestra de números.\n",
    "    Parámetros:\n",
    "    muestra (list): Lista de números.\n",
    "    Devuelve:\n",
    "    dict: Diccionario con las estadísticas (media, varianza y desviación típica).\n",
    "    \"\"\"\n",
    "    n = len(muestra)\n",
    "    media = sum(muestra) / n\n",
    "    varianza = sum((x - media) ** 2 for x in muestra) / n\n",
    "    desviacion_tipica = varianza * 0.5\n",
    "    \n",
    "    estadisticas = {\"media\": media,\"varianza\": varianza,\"desviacion_tipica\": desviacion_tipica}\n",
    "    return estadisticas\n",
    "muestra_ejemplo = [10, 15, 20, 25, 30]\n",
    "resultados = calcular_estadisticas(muestra_ejemplo)\n",
    "print(resultados)"
   ]
  },
  {
   "cell_type": "markdown",
   "metadata": {},
   "source": [
    "B1- Escriba un programa que permita crear dos listas de palabras y que, a continuación, \n",
    "elimine de la primera lista los nombres de la segunda lista."
   ]
  },
  {
   "cell_type": "code",
   "execution_count": 13,
   "metadata": {},
   "outputs": [
    {
     "name": "stdout",
     "output_type": "stream",
     "text": [
      "Lista resultante después de eliminar nombres de la segunda lista:\n",
      "['manzana', 'pera', 'naranja']\n"
     ]
    }
   ],
   "source": [
    "# Crear dos listas de palabras\n",
    "lista1 = [\"manzana\", \"pera\", \"banana\", \"uva\", \"naranja\"]\n",
    "lista2 = [\"banana\", \"uva\", \"kiwi\"]\n",
    "\n",
    "# Eliminar los nombres de la segunda lista de la primera\n",
    "for palabra in lista2:\n",
    "    if palabra in lista1:\n",
    "        lista1.remove(palabra)\n",
    "\n",
    "# Mostrar la lista resultante\n",
    "print(\"Lista resultante después de eliminar nombres de la segunda lista:\")\n",
    "print(lista1)\n"
   ]
  },
  {
   "cell_type": "markdown",
   "metadata": {},
   "source": [
    "B3- Escribir un programa que almacene los cursos HDS, AG, DG, TPC, TPD en una lista, \n",
    "pregunte al usuario la nota que ha sacado en cada curso y elimine de la lista los cursos \n",
    "desaprobados. Al final el programa debe mostrar por pantalla los cursos que el usuario \n",
    "a aprobado."
   ]
  },
  {
   "cell_type": "code",
   "execution_count": 15,
   "metadata": {},
   "outputs": [
    {
     "name": "stdout",
     "output_type": "stream",
     "text": [
      "Cursos aprobados:\n",
      "HDS\n",
      "AG\n",
      "DG\n",
      "TPC\n",
      "TPD\n"
     ]
    }
   ],
   "source": [
    "# Crear una lista con los cursos\n",
    "cursos = [\"HDS\", \"AG\", \"DG\", \"TPC\", \"TPD\"]\n",
    "\n",
    "# Crear una lista para almacenar las notas aprobadas\n",
    "notas_aprobadas = []\n",
    "\n",
    "# Preguntar al usuario la nota de cada curso\n",
    "for curso in cursos:\n",
    "    nota = float(input(f\"Ingrese la nota para {curso}: \"))\n",
    "    if nota >= 5.0:\n",
    "        notas_aprobadas.append(curso)\n",
    "\n",
    "# Mostrar los cursos aprobados\n",
    "print(\"Cursos aprobados:\")\n",
    "for curso_aprobado in notas_aprobadas:\n",
    "    print(curso_aprobado)\n"
   ]
  },
  {
   "cell_type": "markdown",
   "metadata": {},
   "source": [
    "C1- Escribir un programa que cree un diccionario simulando un carrito de compra. El programa debe preguntar el artículo y su precio y añadir el par al diccionario, hasta que el usuario decida terminar. Después se debe mostrar por pantalla la lista de la compra y el costo total, con el siguiente formato:"
   ]
  },
  {
   "cell_type": "code",
   "execution_count": 16,
   "metadata": {},
   "outputs": [
    {
     "name": "stdout",
     "output_type": "stream",
     "text": [
      "Costo Unitario Total (CUT): S/. 13.00\n",
      "Costo Total del período: S/. 130000.00\n"
     ]
    }
   ],
   "source": [
    "# Datos del ejercicio\n",
    "produccion_unidades = 10000\n",
    "materia_prima = 6.00\n",
    "mano_obra_directa = 4.50\n",
    "cif_variables = 2.50\n",
    "costos_fijos_totales = 120000\n",
    "\n",
    "# Cálculo del Costo Unitario Total (CUT)\n",
    "cut = materia_prima + mano_obra_directa + cif_variables\n",
    "\n",
    "# Cálculo del Costo Total del período\n",
    "costo_total = cut * produccion_unidades\n",
    "\n",
    "print(f\"Costo Unitario Total (CUT): S/. {cut:.2f}\")\n",
    "print(f\"Costo Total del período: S/. {costo_total:.2f}\")"
   ]
  },
  {
   "cell_type": "markdown",
   "metadata": {},
   "source": [
    "C2- Escribir un programa que gestione las facturas pendientes de cobro de una empresa. Las facturas se almacenarán en un diccionario donde la clave de cada factura será el número de factura y el valor el coste de la factura. El programa debe preguntar al usuario si quiere añadir una nueva factura, pagar una existente o terminar. Si desea añadir una nueva factura se preguntará por el número de factura y su coste y se añadirá al diccionario. Si se desea pagar una factura se preguntará por el número de factura y se eliminará del diccionario, y deberá añadir el 18% del monto a pagar. Después de cada operación el programa debe mostrar por pantalla la cantidad cobrada hasta el momento y la cantidad pendiente de cobro."
   ]
  },
  {
   "cell_type": "code",
   "execution_count": 17,
   "metadata": {},
   "outputs": [
    {
     "name": "stdout",
     "output_type": "stream",
     "text": [
      "\n",
      "--- Gestión de Facturas Pendientes ---\n",
      "1. Añadir nueva factura\n",
      "2. Pagar factura existente\n",
      "3. Terminar\n",
      "Factura 123 añadida correctamente.\n",
      "\n",
      "--- Gestión de Facturas Pendientes ---\n",
      "1. Añadir nueva factura\n",
      "2. Pagar factura existente\n",
      "3. Terminar\n",
      "La factura 100 no existe en el registro.\n",
      "\n",
      "--- Gestión de Facturas Pendientes ---\n",
      "1. Añadir nueva factura\n",
      "2. Pagar factura existente\n",
      "3. Terminar\n",
      "\n",
      "--- Resumen ---\n",
      "Total cobrado hasta el momento: 5.00\n",
      "Total pendiente de cobro (con 18% de interés): 5.90\n"
     ]
    }
   ],
   "source": [
    "facturas = {}\n",
    "def calcular_monto_con_interes(monto):\n",
    "    return monto * 1.18\n",
    "while True:\n",
    "    print(\"\\n--- Gestión de Facturas Pendientes ---\")\n",
    "    print(\"1. Añadir nueva factura\")\n",
    "    print(\"2. Pagar factura existente\")\n",
    "    print(\"3. Terminar\")\n",
    "    opcion = input(\"Seleccione una opción (1/2/3): \")\n",
    "    if opcion == \"1\":\n",
    "        numero_factura = input(\"Ingrese el número de factura: \")\n",
    "        coste_factura = float(input(\"Ingrese el coste de la factura: \"))\n",
    "        facturas[numero_factura] = coste_factura\n",
    "        print(f\"Factura {numero_factura} añadida correctamente.\")\n",
    "    elif opcion == \"2\":\n",
    "        numero_factura = input(\"Ingrese el número de factura a pagar: \")\n",
    "        if numero_factura in facturas:\n",
    "            monto_pagar = facturas.pop(numero_factura)\n",
    "            monto_con_interes = calcular_monto_con_interes(monto_pagar)\n",
    "            print(f\"Factura {numero_factura} pagada. Monto con 18% de interés: {monto_con_interes:.2f}\")\n",
    "        else:\n",
    "            print(f\"La factura {numero_factura} no existe en el registro.\")\n",
    "    elif opcion == \"3\":\n",
    "        print(\"\\n--- Resumen ---\")\n",
    "        total_cobrado = sum(facturas.values())\n",
    "        total_pendiente = sum(calcular_monto_con_interes(monto) for monto in facturas.values())\n",
    "        print(f\"Total cobrado hasta el momento: {total_cobrado:.2f}\")\n",
    "        print(f\"Total pendiente de cobro (con 18% de interés): {total_pendiente:.2f}\")\n",
    "        break\n",
    "    else:\n",
    "        print(\"Opción inválida. Por favor, seleccione 1, 2 o 3.\")\n"
   ]
  }
 ],
 "metadata": {
  "kernelspec": {
   "display_name": "Python 3",
   "language": "python",
   "name": "python3"
  },
  "language_info": {
   "codemirror_mode": {
    "name": "ipython",
    "version": 3
   },
   "file_extension": ".py",
   "mimetype": "text/x-python",
   "name": "python",
   "nbconvert_exporter": "python",
   "pygments_lexer": "ipython3",
   "version": "3.12.3"
  }
 },
 "nbformat": 4,
 "nbformat_minor": 2
}
