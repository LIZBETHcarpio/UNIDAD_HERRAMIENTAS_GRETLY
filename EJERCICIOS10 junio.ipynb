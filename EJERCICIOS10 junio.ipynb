{
 "cells": [
  {
   "cell_type": "markdown",
   "metadata": {},
   "source": [
    "ejercicio 01\n",
    "Escribe un programa que almacene una cadena de caracteres para contraseña en una variable,  pregunte al usuario ´por la contraseña e imprima por pantalla si la contraseña introducida por el usuario coincide con la guardada en la variable sin tener en cuenta mayusculas y minusculas."
   ]
  },
  {
   "cell_type": "code",
   "execution_count": 3,
   "metadata": {},
   "outputs": [
    {
     "name": "stdout",
     "output_type": "stream",
     "text": [
      "¡Contraseña correcta!\n"
     ]
    }
   ],
   "source": [
    "# Contraseña almacenada\n",
    "contraseña_guardada = \"lizbeth\"\n",
    "\n",
    "# Solicitar contraseña al usuario\n",
    "contraseña_usuario = input(\"Introduce la contraseña: \")\n",
    "\n",
    "# Comparar sin tener en cuenta mayúsculas y minúsculas\n",
    "if contraseña_usuario.lower() == contraseña_guardada.lower():\n",
    "    print(\"¡Contraseña correcta!\")\n",
    "else:\n",
    "    print(\"Contraseña incorrecta. Inténtalo de nuevo.\")"
   ]
  },
  {
   "cell_type": "markdown",
   "metadata": {},
   "source": [
    "ejercicio 02\n",
    "Escribir un programa que pida al usuario dos numeros y muestre por pantalla su division.Si el divisor es cero el programa debe mostrar un error"
   ]
  },
  {
   "cell_type": "code",
   "execution_count": 11,
   "metadata": {},
   "outputs": [
    {
     "name": "stdout",
     "output_type": "stream",
     "text": [
      "El resultado de la división es: 1.50\n"
     ]
    }
   ],
   "source": [
    "# Pide al usuario dos números\n",
    "try:\n",
    "    numerador = float(input(\"Ingresa el numerador: \"))\n",
    "    denominador = float(input(\"Ingresa el denominador: \"))\n",
    "except ValueError:\n",
    "    print(\"Debes ingresar números válidos.\")\n",
    "else:\n",
    "    # Verifica si el divisor es cero\n",
    "    if denominador != 0:\n",
    "        resultado = numerador / denominador\n",
    "        print(f\"El resultado de la división es: {resultado:.2f}\")\n",
    "    else:\n",
    "        print(\"Error: No se puede dividir entre cero.\")"
   ]
  },
  {
   "cell_type": "markdown",
   "metadata": {},
   "source": [
    "ejercicio 03\n",
    "Un ciudadano para crear su empresa y pagar impuestos debe ser mayor de 18 años y tener unos ingresos iguales o superiores a 2000 soles mensuales.Escribir un programa que pregunte al usuario su edad y sus ingresos mensuales y muestre por pantalla si el usuario tiene que pagar impuestos o no."
   ]
  },
  {
   "cell_type": "code",
   "execution_count": null,
   "metadata": {},
   "outputs": [],
   "source": [
    "# Pregunta al usuario su edad y sus ingresos mensuales\n",
    "edad = int(input(\"Ingresa tu edad: \"))\n",
    "ingresos = float(input(\"Ingresa tus ingresos mensuales en soles: \"))\n",
    "\n",
    "# Verifica si cumple con los requisitos para pagar impuestos\n",
    "if edad >= 18 and ingresos >= 2000:\n",
    "    print(\"Debes pagar impuestos.\")\n",
    "else:\n",
    "    print(\"No estás obligado a pagar impuestos.\")"
   ]
  },
  {
   "cell_type": "markdown",
   "metadata": {},
   "source": [
    "ejercicio 04\n",
    "Los alumnos de un curso de HDS se han dividido en dos grupos A y B de acuerdo al sexo y nombre.El grupo A esta formado por las mujeres con un nombre anterior a la M y los hombres con un nombre posterior a la N y el grupo B por el resto.Escribir un programa que pregunte al usuario su nombre y sexo, y muestre por pantalla el grupo que le corresponde."
   ]
  },
  {
   "cell_type": "code",
   "execution_count": null,
   "metadata": {},
   "outputs": [],
   "source": [
    "# Pregunta al usuario su nombre y sexo\n",
    "nombre = input(\"Ingresa tu nombre: \")\n",
    "sexo = input(\"Ingresa tu sexo (M o H): \")\n",
    "\n",
    "# Determina el grupo al que pertenece\n",
    "if (sexo == \"M\" and nombre.lower() < \"m\") or (sexo == \"H\" and nombre.lower() > \"n\"):\n",
    "    grupo = \"A\"\n",
    "else:\n",
    "    grupo = \"B\"\n",
    "\n",
    "# Muestra el grupo correspondiente\n",
    "print(f\"Tu grupo es el grupo {grupo}.\")"
   ]
  },
  {
   "cell_type": "markdown",
   "metadata": {},
   "source": [
    "ejercicio 05\n",
    "Una empresa tiene diferentes salas de juegos para todas las edades y quiere un programa que calcule de forma automatica el precio que debe cobrar a sus clientes por entrar.El programa debe preguntar al usuario la edad del cliente y mostrar el precio de la entrada.Si el cliente es menor de 4 años puede entrar gratis ,si tiene entre 4 y 18 años debe pagar 10 soles y si es mayor de 18 años,20 soles."
   ]
  },
  {
   "cell_type": "code",
   "execution_count": 10,
   "metadata": {},
   "outputs": [
    {
     "name": "stdout",
     "output_type": "stream",
     "text": [
      "El precio de la entrada es: 10 soles.\n"
     ]
    }
   ],
   "source": [
    "# Pregunta al usuario la edad del cliente\n",
    "edad = int(input(\"Ingresa tu edad: \"))\n",
    "\n",
    "# Calcula el precio de la entrada según la edad\n",
    "if edad < 4:\n",
    "    precio = 0\n",
    "elif 4 <= edad <= 18:\n",
    "    precio = 10\n",
    "else:\n",
    "    precio = 20\n",
    "\n",
    "# Muestra el precio de la entrada\n",
    "print(f\"El precio de la entrada es: {precio} soles.\")"
   ]
  },
  {
   "cell_type": "markdown",
   "metadata": {},
   "source": [
    "ejercicio 06\n",
    "Escribir un programa que pregunte al usuario su edad y muestre por pantalla todos los años que ha cumplido ,desde su primer añito."
   ]
  },
  {
   "cell_type": "code",
   "execution_count": 9,
   "metadata": {},
   "outputs": [
    {
     "name": "stdout",
     "output_type": "stream",
     "text": [
      "Año 1: Has cumplido 1 años\n",
      "Año 2: Has cumplido 2 años\n",
      "Año 3: Has cumplido 3 años\n",
      "Año 4: Has cumplido 4 años\n",
      "Año 5: Has cumplido 5 años\n",
      "Año 6: Has cumplido 6 años\n",
      "Año 7: Has cumplido 7 años\n",
      "Año 8: Has cumplido 8 años\n"
     ]
    }
   ],
   "source": [
    "# Pregunta al usuario su edad\n",
    "edad = int(input(\"Por favor, ingresa tu edad: \"))\n",
    "\n",
    "# Imprime los años que ha cumplido\n",
    "for i in range(1, edad + 1):\n",
    "    print(f\"Año {i}: Has cumplido {i} años\")"
   ]
  },
  {
   "cell_type": "markdown",
   "metadata": {},
   "source": [
    "ejercicio 07\n",
    "Escribir un programa que pida al usuario un numero entero y muestre por pantalla un triangulo rectangulo como el de mas abajo, de altura el numero introducido."
   ]
  },
  {
   "cell_type": "code",
   "execution_count": 4,
   "metadata": {},
   "outputs": [
    {
     "name": "stdout",
     "output_type": "stream",
     "text": [
      "*\n",
      "**\n",
      "***\n",
      "****\n",
      "*****\n",
      "******\n",
      "*******\n",
      "********\n"
     ]
    }
   ],
   "source": [
    "n = int(input(\"Introduce la altura del triángulo (entero positivo): \"))\n",
    "for i in range(n):\n",
    "    for j in range(i + 1):\n",
    "        print(\"*\", end=\"\")\n",
    "    print()"
   ]
  },
  {
   "cell_type": "markdown",
   "metadata": {},
   "source": [
    "ejercicio 08\n",
    "Escribir un programa que pida al usuario una palabra y luego muestre por pantalla una a una las letras de la palabra introducida empezando por la ultima."
   ]
  },
  {
   "cell_type": "code",
   "execution_count": 5,
   "metadata": {},
   "outputs": [
    {
     "name": "stdout",
     "output_type": "stream",
     "text": [
      "a\n",
      "n\n",
      "a\n",
      "z\n",
      "n\n",
      "a\n",
      "m\n"
     ]
    }
   ],
   "source": [
    "# Pide al usuario una palabra\n",
    "palabra = input(\"Introduce una palabra: \")\n",
    "\n",
    "# Muestra las letras de la palabra empezando por la última\n",
    "for letra in palabra[::-1]:\n",
    "    print(letra)"
   ]
  },
  {
   "cell_type": "markdown",
   "metadata": {},
   "source": [
    "ejercicio 09\n",
    "Escribir un programa en el que se pregunte al usuario por una frase y una letra, y muestre por pantalla el numero de vecesque aparece la letra en la frase."
   ]
  },
  {
   "cell_type": "code",
   "execution_count": 6,
   "metadata": {},
   "outputs": [
    {
     "name": "stdout",
     "output_type": "stream",
     "text": [
      "La letra 'pera' aparece 0 veces en la frase.\n"
     ]
    }
   ],
   "source": [
    "def contar_letra(frase, letra):\n",
    "    contador = 0\n",
    "    for caracter in frase:\n",
    "        if caracter.lower() == letra.lower():\n",
    "            contador += 1\n",
    "    return contador\n",
    "\n",
    "# Solicitar la frase y la letra al usuario\n",
    "frase_usuario = input(\"Ingresa una frase: \")\n",
    "letra_usuario = input(\"Ingresa una letra: \")\n",
    "\n",
    "# Contar cuántas veces aparece la letra en la frase\n",
    "resultado = contar_letra(frase_usuario, letra_usuario)\n",
    "\n",
    "print(f\"La letra '{letra_usuario}' aparece {resultado} veces en la frase.\")"
   ]
  },
  {
   "cell_type": "markdown",
   "metadata": {},
   "source": [
    "ejercicio 10\n",
    "Escribir un programa que pida al usuario un numero entero y muestre por pantalla un triangulo rectangulo como el de mas abajo."
   ]
  },
  {
   "cell_type": "code",
   "execution_count": 7,
   "metadata": {},
   "outputs": [
    {
     "name": "stdout",
     "output_type": "stream",
     "text": [
      "*\n",
      "**\n",
      "***\n",
      "****\n",
      "*****\n"
     ]
    }
   ],
   "source": [
    "numero= int(input(\"Introduce la altura del triángulo (entero positivo): \"))\n",
    "for i in range(numero):\n",
    "    print(\"*\" * (i + 1))"
   ]
  }
 ],
 "metadata": {
  "kernelspec": {
   "display_name": "Python 3",
   "language": "python",
   "name": "python3"
  },
  "language_info": {
   "codemirror_mode": {
    "name": "ipython",
    "version": 3
   },
   "file_extension": ".py",
   "mimetype": "text/x-python",
   "name": "python",
   "nbconvert_exporter": "python",
   "pygments_lexer": "ipython3",
   "version": "3.12.3"
  }
 },
 "nbformat": 4,
 "nbformat_minor": 2
}
