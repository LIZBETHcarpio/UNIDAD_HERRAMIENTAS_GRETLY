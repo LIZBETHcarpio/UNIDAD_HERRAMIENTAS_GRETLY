{
 "cells": [
  {
   "cell_type": "markdown",
   "metadata": {},
   "source": [
    "escribir una funcion que reciba un numero entero positivo y devuelva su factorial."
   ]
  },
  {
   "cell_type": "code",
   "execution_count": 1,
   "metadata": {},
   "outputs": [],
   "source": [
    "def factorial(n):\n",
    "        resul = 1\n",
    "        for i in range(1, n + 1):\n",
    "            result *= i\n",
    "            return result\n",
    "        numero = int(input(\"ingrese un numero \"))\n",
    "        print(\"el factorial es:,numero es :\"resul)"
   ]
  },
  {
   "cell_type": "markdown",
   "metadata": {},
   "source": [
    "crea una  funcion para las operaciones basicas + - * /potencia"
   ]
  },
  {
   "cell_type": "code",
   "execution_count": 42,
   "metadata": {},
   "outputs": [
    {
     "name": "stdout",
     "output_type": "stream",
     "text": [
      "8\n",
      "2\n",
      "15\n",
      "Error: División por cero\n",
      "125\n"
     ]
    }
   ],
   "source": [
    "def operaciones_basicas(a, b, operacion):\n",
    "    if operacion == 'suma':\n",
    "        return a + b\n",
    "    elif operacion == 'resta':\n",
    "        return a - b\n",
    "    elif operacion == 'multiplicacion':\n",
    "        return a * b\n",
    "    elif operacion == 'division':\n",
    "        if b == 0:\n",
    "            return a / b\n",
    "        else:\n",
    "            return \"Error: División por cero\"\n",
    "    elif operacion == 'potencia':\n",
    "        return a * b\n",
    "    else:\n",
    "        return \"Operación no válida\"\n",
    "print(operaciones_basicas(5, 3, 'suma'))          \n",
    "print(operaciones_basicas(5, 3, 'resta'))         \n",
    "print(operaciones_basicas(5, 3, 'multiplicacion'))\n",
    "print(operaciones_basicas(5, 3, 'division'))     \n",
    "print(operaciones_basicas(5, 3, 'potencia'))      "
   ]
  },
  {
   "cell_type": "markdown",
   "metadata": {},
   "source": [
    "TAREA: 1 ESCRIBIR UNA FUNCION QUE CALCULE EL TOTAL DE UNA FACTURA TRAS APLICARLE EL IGV.LA FUNCION DEBE RECIBIR LA CANTIDAD SIN IGV Y EL PORCENTAJE DE IGB A APLICAR, Y DEVOLVER EL TOTAL DE LA FACTURA. SI SE INVOCA LA FUNCION SIN PASARLE EL PORCENTAJE DE IGB,DEBERA APLICAR UN 18%"
   ]
  },
  {
   "cell_type": "code",
   "execution_count": 45,
   "metadata": {},
   "outputs": [
    {
     "name": "stdout",
     "output_type": "stream",
     "text": [
      "El total de la factura con IGV es: 1180.0\n"
     ]
    }
   ],
   "source": [
    "def calcular_total_factura(cantidad_sin_igv, porcentaje_igv=18):\n",
    "    total_factura = cantidad_sin_igv * (1+ porcentaje_igv / 100)\n",
    "    return total_factura\n",
    "cantidad_sin_igv = 1000 \n",
    "total = calcular_total_factura(cantidad_sin_igv)\n",
    "print(\"El total de la factura con IGV es:\",total)"
   ]
  },
  {
   "cell_type": "markdown",
   "metadata": {},
   "source": [
    "2- ESCRIBIR UNA FUNCION  QUE CALCULE EL AREA DE UN CIRCULO Y OTRA QUE CALCULE EL VOLUMEN DE UN CILINDRO USUANDO LA PRIMERA FUNCION ."
   ]
  },
  {
   "cell_type": "code",
   "execution_count": 46,
   "metadata": {},
   "outputs": [
    {
     "name": "stdout",
     "output_type": "stream",
     "text": [
      "El área del círculo es: {10}\n",
      "El volumen del cilindro es: {120}\n"
     ]
    }
   ],
   "source": [
    "def area_circulo(radio):\n",
    "    return radio * 2\n",
    "def volumen_cilindro(radio, altura):\n",
    "    area_base = area_circulo(radio)\n",
    "    return area_base * altura\n",
    "radio = 5\n",
    "altura = 12\n",
    "print(\"El área del círculo es:\",{area_circulo(radio)})\n",
    "print(\"El volumen del cilindro es:\", {volumen_cilindro(radio, altura)})"
   ]
  },
  {
   "cell_type": "markdown",
   "metadata": {},
   "source": [
    "3- ESCRIBIR UNA FUNCION  QUE RECIBA UNA MUESTRA DE NUMEROS  EN UNA LISTA Y DEVUELVA SU MEDIA."
   ]
  },
  {
   "cell_type": "code",
   "execution_count": 49,
   "metadata": {},
   "outputs": [
    {
     "name": "stdout",
     "output_type": "stream",
     "text": [
      "La media de la muestra es: 35.0\n"
     ]
    }
   ],
   "source": [
    "def calcular_media(lista):\n",
    "    if len(lista) ==0:\n",
    "        return 0  \n",
    "    suma = sum(lista)\n",
    "    media = suma / len(lista)\n",
    "    return media\n",
    "muestra_numeros = [10, 20, 30, 40, 50,60]\n",
    "media_resultante = calcular_media(muestra_numeros)\n",
    "print(\"La media de la muestra es:\",media_resultante)"
   ]
  },
  {
   "cell_type": "code",
   "execution_count": 51,
   "metadata": {},
   "outputs": [
    {
     "name": "stdout",
     "output_type": "stream",
     "text": [
      "La media es: 4.5\n"
     ]
    }
   ],
   "source": [
    "def calcular_media(numeros):\n",
    "    if len(numeros) == 0:\n",
    "        return 0\n",
    "    return sum(numeros) / len(numeros)\n",
    "muestra = [1, 2, 3, 4, 5, 6, 7, 8]\n",
    "media = calcular_media(muestra)\n",
    "print(\"La media es:\", media)"
   ]
  },
  {
   "cell_type": "markdown",
   "metadata": {},
   "source": [
    "4- ESCRIBIR  UNA FUNCION  QUE RECIBA UNA MUESTRA DE NUMEROS EN UNA LISTA Y DEBUELVA OTRA LISTA CON SUS CUADRADOS."
   ]
  },
  {
   "cell_type": "code",
   "execution_count": 52,
   "metadata": {},
   "outputs": [
    {
     "name": "stdout",
     "output_type": "stream",
     "text": [
      "el resultado es : [2, 4, 6, 8, 10]\n"
     ]
    }
   ],
   "source": [
    "def cuadrados(lista):\n",
    "    return [x*2 for x in lista]\n",
    "muestra = [1, 2, 3, 4, 5]\n",
    "resultado = cuadrados(muestra)\n",
    "print(\"el resultado es :\",resultado) "
   ]
  },
  {
   "cell_type": "markdown",
   "metadata": {},
   "source": [
    "5- ESCRIBIR  UNA FUNCI0N  QUE RECIBA UNA MUESTRA DE NUMEROS EN UNA LISTA Y DEBUELVA UN DICCIONARIO CON SU MEDIA,VARIANZA Y DESVIACION TIPICA."
   ]
  },
  {
   "cell_type": "code",
   "execution_count": 55,
   "metadata": {},
   "outputs": [
    {
     "name": "stdout",
     "output_type": "stream",
     "text": [
      "el resultado es : {'media': 3.0, 'varianza': 2.0, 'desviacion_tipica': 2.0}\n"
     ]
    }
   ],
   "source": [
    "def calcular_estadisticas(numeros):\n",
    "    n = len(numeros)\n",
    "    media = sum(numeros) / n\n",
    "    varianza = sum((x - media) ** 2 for x in numeros) / n\n",
    "    desviacion_tipica =(varianza)\n",
    "    \n",
    "    return {'media': media,'varianza': varianza,'desviacion_tipica': desviacion_tipica }\n",
    "numeros = [1, 2, 3, 4, 5]\n",
    "estadisticas = calcular_estadisticas(numeros)\n",
    "print(\"el resultado es :\",estadisticas)"
   ]
  },
  {
   "cell_type": "markdown",
   "metadata": {},
   "source": [
    "6.ESCRIBIR UNA FUNCION QUE CONVIERTA UN NUMERO DECIMAL EN BINARIO Y OTRA QUE CONVIERTA UN NUMERO BINARIO EN DECIMAL."
   ]
  },
  {
   "cell_type": "code",
   "execution_count": 56,
   "metadata": {},
   "outputs": [
    {
     "name": "stdout",
     "output_type": "stream",
     "text": [
      "El número decimal en binario es: {'101010'}\n",
      "El número binario  en decimal es: {42}\n"
     ]
    }
   ],
   "source": [
    "def decimal_a_binario(decimal):\n",
    "    return bin(decimal)[2:]\n",
    "\n",
    "def binario_a_decimal(binario):\n",
    "    return int(binario, 2)\n",
    "numero_decimal = 42\n",
    "numero_binario = \"101010\"\n",
    "\n",
    "binario_convertido = decimal_a_binario(numero_decimal)\n",
    "decimal_convertido = binario_a_decimal(numero_binario)\n",
    "\n",
    "print(\"El número decimal en binario es:\",{binario_convertido})\n",
    "print(\"El número binario  en decimal es:\", {decimal_convertido})"
   ]
  },
  {
   "cell_type": "markdown",
   "metadata": {},
   "source": [
    "7.ESCRIBIR UN PROGRAMA QUE RECIBA EN UNA  CADENA DE CARACTERES Y DEBUELVA UN DICCIONARIO CON CADA PALABRA QUE CONTIENE Y SU FRECUENCIA.ESCRIBIR OTRA FUNCION QUE RECIBA EL DICCIONARIO GENERADO CON LA FUNCION ANTERIOR Y DEBUELVA UNA TUPLA CON LA PALABRA MAS REPETIDA Y SU FRECUENCIA."
   ]
  },
  {
   "cell_type": "code",
   "execution_count": 59,
   "metadata": {},
   "outputs": [
    {
     "name": "stdout",
     "output_type": "stream",
     "text": [
      "Palabra más repetida: qué, Frecuencia: 1\n"
     ]
    }
   ],
   "source": [
    "def contar_palabras(cadena):\n",
    "    \"Recibe una cadena de caracteres y devuelve un diccionario con la cantidad de apariciones de cada palabra\"\n",
    "    diccionario = {}\n",
    "    palabras = cadena.lower().split()\n",
    "    for palabra in palabras:\n",
    "        diccionario[palabra] = diccionario.get(palabra, 0) + 1\n",
    "    return diccionario\n",
    "def palabra_mas_repetida(diccionario):\n",
    "    \"Recibe el diccionario generado con la función anterior y devuelve una tupla con la palabra más repetida y su frecuencia\"\n",
    "    palabra_max = max(diccionario, key=diccionario.get)\n",
    "    frecuencia_max = diccionario[palabra_max]\n",
    "    return palabra_max, frecuencia_max\n",
    "cadena_ejemplo = \"Qué lindo día que hace hoy\"\n",
    "resultado_diccionario = contar_palabras(cadena_ejemplo)\n",
    "resultado_tupla = palabra_mas_repetida(resultado_diccionario)\n",
    "print(f\"Palabra más repetida: {resultado_tupla[0]}, Frecuencia: {resultado_tupla[1]}\")"
   ]
  },
  {
   "cell_type": "code",
   "execution_count": 60,
   "metadata": {},
   "outputs": [
    {
     "name": "stdout",
     "output_type": "stream",
     "text": [
      "{'hola': 2, 'mundo': 3}\n",
      "la palabra_mas_frecuente es: {'hola': 2, 'mundo': 3}\n"
     ]
    }
   ],
   "source": [
    "def contar_palabras(cadena):\n",
    "    palabras = cadena.split()\n",
    "    frecuencia = {}\n",
    "    for palabra in palabras:\n",
    "        if palabra in frecuencia:\n",
    "            frecuencia[palabra] += 1\n",
    "        else:\n",
    "            frecuencia[palabra] = 1\n",
    "    return frecuencia\n",
    "def palabra_mas_frecuente(diccionario):\n",
    "    palabra_frecuente = ''\n",
    "    max_frecuencia = 0\n",
    "    for palabra, frecuencia in diccionario.items():\n",
    "        if frecuencia > max_frecuencia:\n",
    "            max_frecuencia = frecuencia\n",
    "            palabra_frecuente = palabra\n",
    "    return (palabra_frecuente, max_frecuencia)\n",
    "cadena = \"hola hola mundo mundo mundo\"\n",
    "diccionario_frecuencia = contar_palabras(cadena)\n",
    "print(diccionario_frecuencia)\n",
    "print(\"la palabra_mas_frecuente es:\",(diccionario_frecuencia))"
   ]
  },
  {
   "cell_type": "markdown",
   "metadata": {},
   "source": [
    "8.ESCRIBIR UNA FUNCION QUE CALCULE EL MAXIMO COMUN DIVISOR DE DOS NUMEROS Y OTRA QUE CALCULE EL MIMIMO COMUN MULTIPLO."
   ]
  },
  {
   "cell_type": "code",
   "execution_count": 57,
   "metadata": {},
   "outputs": [
    {
     "name": "stdout",
     "output_type": "stream",
     "text": [
      "El mdc de num1 y num2 es: 6\n",
      "El mdc de num1 y num2 es: 36\n"
     ]
    }
   ],
   "source": [
    "def calcular_mcd(a, b):\n",
    "    while b:\n",
    "        a, b = b, a % b\n",
    "    return a\n",
    "def calcular_mcm(a, b):\n",
    "    return abs(a * b) // calcular_mcd(a, b)\n",
    "num1 = 12\n",
    "num2 = 18\n",
    "mcd = calcular_mcd(num1, num2)\n",
    "mcm = calcular_mcm(num1, num2)\n",
    "print(\"El mdc de num1 y num2 es:\",mcd)\n",
    "print(\"El mdc de num1 y num2 es:\",mcm)"
   ]
  }
 ],
 "metadata": {
  "kernelspec": {
   "display_name": "Python 3",
   "language": "python",
   "name": "python3"
  },
  "language_info": {
   "codemirror_mode": {
    "name": "ipython",
    "version": 3
   },
   "file_extension": ".py",
   "mimetype": "text/x-python",
   "name": "python",
   "nbconvert_exporter": "python",
   "pygments_lexer": "ipython3",
   "version": "3.12.3"
  }
 },
 "nbformat": 4,
 "nbformat_minor": 2
}
